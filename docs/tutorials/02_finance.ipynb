{
  "cells": [
    {
      "cell_type": "raw",
      "metadata": {},
      "source": [
        "---\n",
        "title: Finance and Investment Analysis\n",
        "toc: true\n",
        "toc-depth: 3\n",
        "number-sections: true\n",
        "number-depth: 2\n",
        "code-fold: true\n",
        "---"
      ],
      "id": "70b91ad8"
    },
    {
      "cell_type": "markdown",
      "metadata": {},
      "source": [
        "Timetk is designed to work with any time series domain. **Arguably the most important is Finance.** This tutorial showcases how you can perform Financial Investment and Stock Analysis at scale with `pytimetk`. This applied tutorial covers financial analysis with:\n",
        "\n",
        "- `tk.plot_timeseries()`: Visualizing financial data\n",
        "- `tk.augment_rolling()`: Moving averages, rolling regressions\n",
        "\n",
        "Load the following packages before proceeding with this tutorial. \n"
      ],
      "id": "0f077d23"
    },
    {
      "cell_type": "code",
      "metadata": {},
      "source": [
        "import pytimetk as tk\n",
        "import pandas as pd\n",
        "import numpy as np"
      ],
      "id": "b101fff7",
      "execution_count": null,
      "outputs": []
    },
    {
      "cell_type": "markdown",
      "metadata": {},
      "source": [
        "# 3 Core Properties: Financial Data \n",
        "\n",
        "Financial data from sources like `openbb` or `yfinance` come in OHLCV format and typically include an \"adjusted\" price (adjusted for stock splits). This data has the 3 core properties of time series:\n",
        "\n",
        "1. Timestamp: daily, hourly frequencies\n",
        "2. Value: A price (or returns)\n",
        "3. Groups: Stock symbols\n",
        "\n",
        "Let's take a look with the `tk.glimpse()` function. \n"
      ],
      "id": "20c29ad2"
    },
    {
      "cell_type": "code",
      "metadata": {},
      "source": [
        "stocks_df = tk.load_dataset(\"stocks_daily\", parse_dates = True)\n",
        "\n",
        "stocks_df.glimpse()"
      ],
      "id": "4f1d2db0",
      "execution_count": null,
      "outputs": []
    },
    {
      "cell_type": "markdown",
      "metadata": {},
      "source": [
        "# Visualizing Financial Data\n",
        "\n",
        "Visualizing financial data is critical for:\n",
        "\n",
        "1. Quick Insights\n",
        "2. Enhanced Decision Making\n",
        "3. Performance Monitoring\n",
        "4. Ease of Reporting\n",
        "\n",
        "\n",
        "\n",
        "We can visualize financial data over time with `tk.plot_timeseries()`:\n",
        "\n",
        "- An interactive `plotly` plot is returned by default. A static plot can be returned by setting `engine = \"plotnine\"`.\n",
        "- A blue smoother is added by default. The smoother can be removed with `smooth = False`. \n",
        "\n",
        "::: {.callout-note collapse=\"true\"}\n",
        "## Getting More Info: `tk.plot_timeseries()`\n",
        "\n",
        "- Click here to see our [Data Visualization Guide](/guides/01_visualization.html)\n",
        "- Use `help(tk.plot_timeseries)` to review additional helpful documentation.  \n",
        "\n",
        ":::\n",
        "\n",
        ":::{.panel-tabset groups=\"visualize-plotly-plotnine\"}\n",
        "\n",
        "## Plotly\n",
        "\n",
        "An interactive `plotly` plot is returned by default. Interactive is useful for fast data exploration and for use in web apps (e.g. `streamlit`, `shiny`, `dash`), **Click to expand code template.**  \n"
      ],
      "id": "6d0661bc"
    },
    {
      "cell_type": "code",
      "metadata": {},
      "source": [
        "# | code-fold: true\n",
        "\n",
        "# plotly engine\n",
        "stocks_df \\\n",
        "    .groupby('symbol') \\\n",
        "    .plot_timeseries(\n",
        "        'date', 'adjusted',\n",
        "        facet_ncol = 2,\n",
        "        smooth = True,\n",
        "        smooth_frac = 0.10,\n",
        "        width = 900,\n",
        "        height = 700,\n",
        "        engine = 'plotly',\n",
        "    )"
      ],
      "id": "ad5c6ee7",
      "execution_count": null,
      "outputs": []
    },
    {
      "cell_type": "markdown",
      "metadata": {},
      "source": [
        "## Plotnine\n",
        "\n",
        "You can quickly change to a static plot using the `plotnine` or `matplotlib` engines. This returns a professional facetted stock chart useful for financial reports. **Click to expand code template.**  \n"
      ],
      "id": "1aa7f041"
    },
    {
      "cell_type": "code",
      "metadata": {},
      "source": [
        "# | code-fold: true\n",
        "\n",
        "# plotnine engine\n",
        "stocks_df \\\n",
        "    .groupby('symbol') \\\n",
        "    .plot_timeseries(\n",
        "        'date', 'adjusted',\n",
        "        facet_ncol = 2,\n",
        "        smooth = True,\n",
        "        smooth_frac = 0.10,\n",
        "        width = 900,\n",
        "        height = 700,\n",
        "        engine = 'plotnine'\n",
        "    )"
      ],
      "id": "f7317aad",
      "execution_count": null,
      "outputs": []
    },
    {
      "cell_type": "markdown",
      "metadata": {},
      "source": [
        ":::\n",
        "\n",
        "# Technical Indicators\n",
        "\n",
        "Technical indicators are mathematical calculations based on the price, volume, or open interest of a security or contract used by traders who follow technical analysis. Technical analysis is a method of forecasting the direction of financial market prices through the study of past market data, primarily price, and volume. Technical indicators are most extensively used in the context of the stock market but are also used in other financial markets like forex, commodities, and cryptocurrencies.\n",
        "\n",
        "### Types of Technical Indicators:\n",
        "\n",
        "1. **Trend Indicators:**\n",
        "   - **Moving Averages:** Helps smooth out price data to form a single flowing line, identifying the direction of the trend.\n",
        "   - **Moving Average Convergence Divergence (MACD):** Shows the relationship between two moving averages of a security's price.\n",
        "   - **Average True Range (ATR):** Measures market volatility.\n",
        "\n",
        "2. **Momentum Indicators:**\n",
        "   - **Relative Strength Index (RSI):** Measures the speed and change of price movements, typically on a scale of 1 to 100.\n",
        "   - **Stochastic Oscillator:** Compares a security's closing price to its price range over a specific period.\n",
        "\n",
        "3. **Volume Indicators:**\n",
        "   - **On-Balance Volume (OBV):** Uses volume flow to predict changes in stock price.\n",
        "   - **Accumulation/Distribution Line:** Looks at the proximity of closing prices to their highs or lows to determine if accumulation or distribution is occurring in the market.\n",
        "\n",
        "4. **Volatility Indicators:**\n",
        "   - **Bollinger Bands:** Consist of a middle band being an N-period simple moving average (SMA), an upper band at K times an N-period standard deviation above the middle band, and a lower band at K times an N-period standard deviation below the middle band.\n",
        "   - **Average True Range (ATR):** Provides a measure of a market's volatility.\n",
        "\n",
        "5. **Market Strength Indicators:**\n",
        "   - **Advance/Decline Line:** Represents the number of advancing stocks divided by the number of declining stocks over a given period.\n",
        "   - **Market Breadth:** Measures the number of securities that have advanced and declined in a specific market or index, giving traders a feel for the market's overall mood.\n",
        "\n",
        "Let's see a few examples of technical indicators in `pytimetk`. \n",
        "\n",
        "## Application: Moving Averages, 10-Day and 50-Day\n",
        "\n",
        "This **code template** can be used to make and visualize the 10-day and 50-Day moving average of a group of stock symbols. Click to expand the code. \n",
        "\n",
        ":::{.panel-tabset groups=\"mavg-plotly-plotnine\"}\n",
        "\n",
        "## Plotly\n"
      ],
      "id": "0ef2e17f"
    },
    {
      "cell_type": "code",
      "metadata": {},
      "source": [
        "# | code-fold: true\n",
        "\n",
        "# Add 2 moving averages (10-day and 50-Day)\n",
        "sma_df = stocks_df[['symbol', 'date', 'adjusted']] \\\n",
        "    .groupby('symbol') \\\n",
        "    .augment_rolling(\n",
        "        date_column = 'date',\n",
        "        value_column = 'adjusted',\n",
        "        window = [10, 50],\n",
        "        window_func = ['mean'],\n",
        "        center = False\n",
        "    )\n",
        "\n",
        "# Visualize \n",
        "(sma_df \n",
        "\n",
        "    # zoom in on dates\n",
        "    .query('date >= \"2023-01-01\"') \n",
        "\n",
        "    # Convert to long format\n",
        "    .melt(\n",
        "        id_vars = ['symbol', 'date'],\n",
        "        value_vars = [\"adjusted\", \"adjusted_rolling_mean_win_10\", \"adjusted_rolling_mean_win_50\"]\n",
        "    ) \n",
        "\n",
        "    # Group on symbol and visualize\n",
        "    .groupby(\"symbol\") \n",
        "    .plot_timeseries(\n",
        "        date_column = 'date',\n",
        "        value_column = 'value',\n",
        "        color_column = 'variable',\n",
        "        smooth = False, \n",
        "        facet_ncol = 2,\n",
        "        width = 900,\n",
        "        height = 700,\n",
        "        engine = \"plotly\"\n",
        "    )\n",
        ")"
      ],
      "id": "fd35fd97",
      "execution_count": null,
      "outputs": []
    },
    {
      "cell_type": "markdown",
      "metadata": {},
      "source": [
        "## Plotnine\n"
      ],
      "id": "b8f629f2"
    },
    {
      "cell_type": "code",
      "metadata": {},
      "source": [
        "# | code-fold: true\n",
        "\n",
        "# Add 2 moving averages (10-day and 50-Day)\n",
        "sma_df = stocks_df[['symbol', 'date', 'adjusted']] \\\n",
        "    .groupby('symbol') \\\n",
        "    .augment_rolling(\n",
        "        date_column = 'date',\n",
        "        value_column = 'adjusted',\n",
        "        window = [10, 50],\n",
        "        window_func = ['mean'],\n",
        "        center = False\n",
        "    )\n",
        "\n",
        "# Visualize \n",
        "(sma_df \n",
        "\n",
        "    # zoom in on dates\n",
        "    .query('date >= \"2023-01-01\"') \n",
        "\n",
        "    # Convert to long format\n",
        "    .melt(\n",
        "        id_vars = ['symbol', 'date'],\n",
        "        value_vars = [\"adjusted\", \"adjusted_rolling_mean_win_10\", \"adjusted_rolling_mean_win_50\"]\n",
        "    ) \n",
        "\n",
        "    # Group on symbol and visualize\n",
        "    .groupby(\"symbol\") \n",
        "    .plot_timeseries(\n",
        "        date_column = 'date',\n",
        "        value_column = 'value',\n",
        "        color_column = 'variable',\n",
        "        smooth = False, \n",
        "        facet_ncol = 2,\n",
        "        width = 900,\n",
        "        height = 700,\n",
        "        engine = \"plotnine\"\n",
        "    )\n",
        ")"
      ],
      "id": "7b7ec917",
      "execution_count": null,
      "outputs": []
    },
    {
      "cell_type": "markdown",
      "metadata": {},
      "source": [
        ":::\n",
        "\n",
        "## Application: Bollinger Bands\n",
        "\n",
        "Bollinger Bands are a volatility indicator commonly used in financial trading. They consist of three lines:\n",
        "\n",
        "1. The middle band, which is a simple moving average (usually over 20 periods).\n",
        "2. The upper band, calculated as the middle band plus k times the standard deviation of the price (typically, k=2).\n",
        "3. The lower band, calculated as the middle band minus k times the standard deviation of the price.\n",
        "\n",
        "Here's how you can calculate and plot Bollinger Bands with `pytimetk` using **this code template (click to expand)**:\n",
        "\n",
        ":::{.panel-tabset groups=\"bbands-plotly-plotnine\"}\n",
        "\n",
        "## Plotly\n"
      ],
      "id": "76aae81f"
    },
    {
      "cell_type": "code",
      "metadata": {},
      "source": [
        "# | code-fold: true\n",
        "\n",
        "# Bollinger Bands\n",
        "bollinger_df = stocks_df[['symbol', 'date', 'adjusted']] \\\n",
        "    .groupby('symbol') \\\n",
        "    .augment_rolling(\n",
        "        date_column = 'date',\n",
        "        value_column = 'adjusted',\n",
        "        window = 20,\n",
        "        window_func = ['mean', 'std'],\n",
        "        center = False\n",
        "    ) \\\n",
        "    .assign(\n",
        "        upper_band = lambda x: x['adjusted_rolling_mean_win_20'] + 2*x['adjusted_rolling_std_win_20'],\n",
        "        lower_band = lambda x: x['adjusted_rolling_mean_win_20'] - 2*x['adjusted_rolling_std_win_20']\n",
        "    )\n",
        "\n",
        "\n",
        "# Visualize\n",
        "(bollinger_df\n",
        "\n",
        "    # zoom in on dates\n",
        "    .query('date >= \"2023-01-01\"') \n",
        "\n",
        "    # Convert to long format\n",
        "    .melt(\n",
        "        id_vars = ['symbol', 'date'],\n",
        "        value_vars = [\"adjusted\", \"adjusted_rolling_mean_win_20\", \"upper_band\", \"lower_band\"]\n",
        "    ) \n",
        "\n",
        "    # Group on symbol and visualize\n",
        "    .groupby(\"symbol\") \n",
        "    .plot_timeseries(\n",
        "        date_column = 'date',\n",
        "        value_column = 'value',\n",
        "        color_column = 'variable',\n",
        "        # Adjust colors for Bollinger Bands\n",
        "        color_palette =[\"#2C3E50\", \"#E31A1C\", '#18BC9C', '#18BC9C'],\n",
        "        smooth = False, \n",
        "        facet_ncol = 2,\n",
        "        width = 900,\n",
        "        height = 700,\n",
        "        engine = \"plotly\" \n",
        "    )\n",
        ")"
      ],
      "id": "bc6d7333",
      "execution_count": null,
      "outputs": []
    },
    {
      "cell_type": "markdown",
      "metadata": {},
      "source": [
        "## Plotnine\n"
      ],
      "id": "85402628"
    },
    {
      "cell_type": "code",
      "metadata": {},
      "source": [
        "# | code-fold: true\n",
        "\n",
        "# Bollinger Bands\n",
        "bollinger_df = stocks_df[['symbol', 'date', 'adjusted']] \\\n",
        "    .groupby('symbol') \\\n",
        "    .augment_rolling(\n",
        "        date_column = 'date',\n",
        "        value_column = 'adjusted',\n",
        "        window = 20,\n",
        "        window_func = ['mean', 'std'],\n",
        "        center = False\n",
        "    ) \\\n",
        "    .assign(\n",
        "        upper_band = lambda x: x['adjusted_rolling_mean_win_20'] + 2*x['adjusted_rolling_std_win_20'],\n",
        "        lower_band = lambda x: x['adjusted_rolling_mean_win_20'] - 2*x['adjusted_rolling_std_win_20']\n",
        "    )\n",
        "\n",
        "\n",
        "# Visualize\n",
        "(bollinger_df\n",
        "\n",
        "    # zoom in on dates\n",
        "    .query('date >= \"2023-01-01\"') \n",
        "\n",
        "    # Convert to long format\n",
        "    .melt(\n",
        "        id_vars = ['symbol', 'date'],\n",
        "        value_vars = [\"adjusted\", \"adjusted_rolling_mean_win_20\", \"upper_band\", \"lower_band\"]\n",
        "    ) \n",
        "\n",
        "    # Group on symbol and visualize\n",
        "    .groupby(\"symbol\") \n",
        "    .plot_timeseries(\n",
        "        date_column = 'date',\n",
        "        value_column = 'value',\n",
        "        color_column = 'variable',\n",
        "        # Adjust colors for Bollinger Bands\n",
        "        color_palette =[\"#2C3E50\", \"#E31A1C\", '#18BC9C', '#18BC9C'],\n",
        "        smooth = False, \n",
        "        facet_ncol = 2,\n",
        "        width = 900,\n",
        "        height = 700,\n",
        "        engine = \"plotnine\"\n",
        "    )\n",
        ")"
      ],
      "id": "571af4af",
      "execution_count": null,
      "outputs": []
    },
    {
      "cell_type": "markdown",
      "metadata": {},
      "source": [
        ":::\n",
        "\n",
        "\n",
        "# Returns Analysis \n",
        "\n",
        "In finance, **returns analysis** involves evaluating the gains or losses made on an investment relative to the amount of money invested. It’s a critical aspect of investment and portfolio management:\n",
        "\n",
        "- **Performance:** Returns analysis determines the performance and the risk-reward profile of financial assets, portfolios, or investment strategies. \n",
        "- **Informed Decision Making:** Returns analysis allows investors, analysts, and portfolio managers to make informed decisions regarding asset allocation, risk management, and investment strategy.\n",
        "\n",
        "## Returns Analysis By Time\n",
        "\n",
        "::: {.callout-tip collapse=\"false\"}\n",
        "## Returns are NOT static (so analyze them by time)\n",
        "\n",
        "1. We can use rolling window calculations with `tk.augment_rolling()` to compute many rolling features at scale such as rolling mean, std, range (spread).\n",
        "2. We can expand our `tk.augment_rolling()` rolling calculations to Rolling Correlation and Rolling Regression (to make comparisons over time)\n",
        "\n",
        ":::\n",
        "\n",
        "### Application: Descriptive Statistic Analysis \n",
        "\n",
        "Many traders compute descriptive statistics like mean, median, mode, skewness, kurtosis, and standard deviation to understand the central tendency, spread, and shape of the return distribution. \n",
        "\n",
        "\n",
        "<!-- :::{.panel-tabset groups=\"stats-returns-\"} -->\n",
        "\n",
        "#### Step 1: Returns\n",
        "\n",
        "Use this code to get the `pct_change()` in wide format. **Click expand to get the code.** \n"
      ],
      "id": "798f6ed2"
    },
    {
      "cell_type": "code",
      "metadata": {},
      "source": [
        "# | code-fold: true\n",
        "returns_wide_df = stocks_df[['symbol', 'date', 'adjusted']] \\\n",
        "    .pivot(index = 'date', columns = 'symbol', values = 'adjusted') \\\n",
        "    .pct_change() \\\n",
        "    .reset_index() \\\n",
        "    [1:]\n",
        "\n",
        "returns_wide_df"
      ],
      "id": "f0fedca4",
      "execution_count": null,
      "outputs": []
    },
    {
      "cell_type": "markdown",
      "metadata": {},
      "source": [
        "#### Step 2: Descriptive Stats\n",
        "\n",
        "Use this code to get standard statistics with the `describe()` method. **Click expand to get the code.**\n"
      ],
      "id": "2db2cf82"
    },
    {
      "cell_type": "code",
      "metadata": {},
      "source": [
        "# | code-fold: true\n",
        "returns_wide_df.describe()"
      ],
      "id": "541db002",
      "execution_count": null,
      "outputs": []
    },
    {
      "cell_type": "markdown",
      "metadata": {},
      "source": [
        "#### Step 3: Correlation\n",
        "\n",
        "And run a correlation with `corr()`. **Click expand to get the code.**\n"
      ],
      "id": "6295ac63"
    },
    {
      "cell_type": "code",
      "metadata": {},
      "source": [
        "# | code-fold: true\n",
        "corr_table_df = returns_wide_df.drop('date', axis=1).corr()\n",
        "corr_table_df"
      ],
      "id": "645dfee6",
      "execution_count": null,
      "outputs": []
    },
    {
      "cell_type": "markdown",
      "metadata": {},
      "source": [
        "<!-- ::: -->\n",
        "\n",
        "The problem is that the stock market is constantly changing. And these descriptive statistics aren't representative of the most recent fluctuations. This is where `pytimetk` comes into play with rolling descriptive statistics. \n",
        "\n",
        "### Application: 90-Day Rolling Descriptive Statistics Analysis\n",
        "\n",
        "Let's compute and visualize the 90-day rolling statistics. \n",
        "\n",
        "\n",
        "::: {.callout-note collapse=\"true\"}\n",
        "## Getting More Info: `tk.augment_rolling()`\n",
        "\n",
        "- Click here to see our [Augmenting Guide](/guides/05_augmenting.html)\n",
        "- Use `help(tk.augment_rolling)` to review additional helpful documentation.  \n",
        "\n",
        ":::\n",
        "\n",
        "#### Step 1: Long Format Pt.1\n",
        "\n",
        "Use this code to get the date `melt()` into long format. **Click expand to get the code.** \n"
      ],
      "id": "4f208b2f"
    },
    {
      "cell_type": "code",
      "metadata": {},
      "source": [
        "# | code-fold: true\n",
        "returns_long_df = returns_wide_df \\\n",
        "    .melt(id_vars='date', value_name='returns') \n",
        "\n",
        "returns_long_df"
      ],
      "id": "795a9a80",
      "execution_count": null,
      "outputs": []
    },
    {
      "cell_type": "markdown",
      "metadata": {},
      "source": [
        "#### Step 2: Augment Rolling Statistic\n",
        "\n",
        "Let's add multiple columns of rolling statistics. **Click to expand the code.** \n"
      ],
      "id": "696fa3a9"
    },
    {
      "cell_type": "code",
      "metadata": {},
      "source": [
        "# | code-fold: true\n",
        "rolling_stats_df = returns_long_df \\\n",
        "    .groupby('symbol') \\\n",
        "    .augment_rolling(\n",
        "        date_column = 'date',\n",
        "        value_column = 'returns',\n",
        "        window = [90],\n",
        "        window_func = [\n",
        "            'mean', \n",
        "            'std', \n",
        "            'min',\n",
        "            ('q25', lambda x: np.quantile(x, 0.25)),\n",
        "            'median',\n",
        "            ('q75', lambda x: np.quantile(x, 0.75)),\n",
        "            'max'\n",
        "        ]\n",
        "    ) \\\n",
        "    .dropna()\n",
        "\n",
        "rolling_stats_df"
      ],
      "id": "17a4d0af",
      "execution_count": null,
      "outputs": []
    },
    {
      "cell_type": "markdown",
      "metadata": {},
      "source": [
        "#### Step 3: Long Format Pt.2 \n",
        "\n",
        "Finally, we can `.melt()` each of the rolling statistics for a Long Format Analysis. **Click to expand the code.** \n"
      ],
      "id": "c67f2487"
    },
    {
      "cell_type": "code",
      "metadata": {},
      "source": [
        "# | code-fold: true\n",
        "rolling_stats_long_df = rolling_stats_df \\\n",
        "    .melt(\n",
        "        id_vars = [\"symbol\", \"date\"],\n",
        "        var_name = \"statistic_type\"\n",
        "    )\n",
        "\n",
        "rolling_stats_long_df"
      ],
      "id": "f16b7655",
      "execution_count": null,
      "outputs": []
    },
    {
      "cell_type": "markdown",
      "metadata": {},
      "source": [
        "With the data formatted properly we can evaluate the 90-Day Rolling Statistics using `.plot_timeseries()`.\n",
        "\n",
        ":::{.panel-tabset groups=\"rolling-stats-plots\"}\n",
        "\n",
        "## Plotly\n"
      ],
      "id": "061e9123"
    },
    {
      "cell_type": "code",
      "metadata": {},
      "source": [
        "# | code-fold: true\n",
        "rolling_stats_long_df \\\n",
        "    .groupby(['symbol', 'statistic_type']) \\\n",
        "    .plot_timeseries(\n",
        "        date_column = 'date',\n",
        "        value_column = 'value',\n",
        "        facet_ncol = 6,\n",
        "        width = 1500,\n",
        "        height = 1000,\n",
        "        title = \"90-Day Rolling Statistics\"\n",
        "    )"
      ],
      "id": "00368d9c",
      "execution_count": null,
      "outputs": []
    },
    {
      "cell_type": "markdown",
      "metadata": {},
      "source": [
        "## Plotnine\n"
      ],
      "id": "bc5981c5"
    },
    {
      "cell_type": "code",
      "metadata": {},
      "source": [
        "# | code-fold: true\n",
        "rolling_stats_long_df \\\n",
        "    .groupby(['symbol', 'statistic_type']) \\\n",
        "    .plot_timeseries(\n",
        "        date_column = 'date',\n",
        "        value_column = 'value',\n",
        "        facet_ncol = 6,\n",
        "        facet_dir = 'v',\n",
        "        width = 1500,\n",
        "        height = 1000,\n",
        "        title = \"90-Day Rolling Statistics\",\n",
        "        engine = \"plotnine\"\n",
        "    )"
      ],
      "id": "1b6e3441",
      "execution_count": null,
      "outputs": []
    },
    {
      "cell_type": "markdown",
      "metadata": {},
      "source": [
        ":::\n",
        "\n",
        "# Rolling Correlation and Regressions\n",
        "\n",
        "One final evaluation is to understand relationships to other stocks and the overall market index over time. For that we can use two techniques:\n",
        "\n",
        "1. Rolling Correlations\n",
        "2. Rolling Regressions\n",
        "\n",
        "## About: Rolling Correlation\n",
        "\n",
        "Rolling correlation calculates the correlation between two time series over a rolling window of a specified size, moving one period at a time. In stock analysis, this is often used to assess:\n",
        "\n",
        "- **Diversification:** Helps in identifying how different stocks move in relation to each other, aiding in the creation of a diversified portfolio.\n",
        "\n",
        "- **Market Dependency:** Measures how a particular stock or sector is correlated with a broader market index.\n",
        "\n",
        "- **Risk Management:** Helps in identifying changes in correlation structures over time which is crucial for risk assessment and management.\n",
        "\n",
        "For example, if the rolling correlation between two stocks starts increasing, it might suggest that they are being influenced by similar factors or market conditions.\n",
        "\n",
        "## Application: Rolling Correlation\n",
        "\n",
        "Let's revisit the returns wide and long format. We can combine these two using the `merge()` method.\n",
        "\n",
        "\n",
        "### Step 1: Create the `return_combinations_long_df`\n",
        "\n",
        "Perform data wrangling to get the pairwise combinations in long format:\n",
        "\n",
        "- We first `.merge()` to join the long returns with the wide returns by date. \n",
        "- We then `.melt()` to get the wide data into long format. \n"
      ],
      "id": "6bcab6bb"
    },
    {
      "cell_type": "code",
      "metadata": {},
      "source": [
        "# | code-fold: true\n",
        "return_combinations_long_df = returns_long_df \\\n",
        "    .merge(returns_wide_df, how='left', on = 'date') \\\n",
        "    .melt(\n",
        "        id_vars = ['date', 'symbol', 'returns'],\n",
        "        var_name = \"comp\",\n",
        "        value_name = \"returns_comp\"\n",
        "    )\n",
        "return_combinations_long_df"
      ],
      "id": "e0860101",
      "execution_count": null,
      "outputs": []
    },
    {
      "cell_type": "markdown",
      "metadata": {},
      "source": [
        "### Step 2: Add Rolling Correlations with `tk.augment_rolling()`\n",
        "\n",
        "Next, let's add rolling correlations. \n",
        "\n",
        "- We first `.groupby()` on the combination of our target assets \"symbol\" and our comparison asset \"comp\". \n",
        "- Then we use the familiar `tk.augment_rolling()`.\n",
        "\n",
        "::: {.callout-warning collapse=\"false\"}\n",
        "## Use Independent Variables\n",
        "\n",
        "When performing rolling calculations that require independent variables such as rolling correlations and rolling regressions, set `use_independent_variables = True`. This instructs the rolling operation to give you access to all columns in the data frame rather than just the value column as a series. This allows you to do more complex calculations that depend on more than just a target `value_column`. \n",
        ":::\n"
      ],
      "id": "39cc0848"
    },
    {
      "cell_type": "code",
      "metadata": {},
      "source": [
        "return_corr_df = return_combinations_long_df \\\n",
        "    .groupby([\"symbol\", \"comp\"]) \\\n",
        "    .augment_rolling(\n",
        "        date_column = \"date\",\n",
        "        value_column = \"returns\",\n",
        "        # IMPORTANT: INCLUDE INDEPENDENT VARIABLES\n",
        "        use_independent_variables = True,\n",
        "        window = 90,\n",
        "        window_func = [('corr', lambda df: df['returns'].corr(df['returns_comp']))]\n",
        "    )\n",
        "\n",
        "return_corr_df"
      ],
      "id": "69d7a92e",
      "execution_count": null,
      "outputs": []
    },
    {
      "cell_type": "markdown",
      "metadata": {},
      "source": [
        "### Step 3: Visualize the Rolling Correlation\n",
        "\n",
        "We can use `tk.plot_timeseries()` to visualize the 90-day rolling correlation. It's interesting to see that stock combinations such as AAPL | AMZN returns have a high positive correlation of 0.80, but this relationship actually was much lower 0.25 prior to 2015. \n",
        "\n",
        "- The blue smoother can help us detect trends\n",
        "- The y_intercept is useful in this case to draw lines at -1, 0, and 1\n",
        "\n",
        ":::{.panel-tabset groups=\"bbands-plotly-plotnine\"}\n",
        "\n",
        "## Plotly\n"
      ],
      "id": "90b9d3ec"
    },
    {
      "cell_type": "code",
      "metadata": {},
      "source": [
        "return_corr_df \\\n",
        "    .dropna() \\\n",
        "    .groupby(['symbol', 'comp']) \\\n",
        "    .plot_timeseries(\n",
        "        date_column = \"date\",\n",
        "        value_column = \"returns_rolling_corr_win_90\",\n",
        "        facet_ncol = 6,\n",
        "        y_intercept = [-1,0,1],\n",
        "        y_intercept_color = tk.palette_timetk()['steel_blue'],\n",
        "        width = 1500,\n",
        "        height = 1000,\n",
        "        title = \"90-Day Rolling Correlation\",\n",
        "        engine = \"plotly\"\n",
        "    )"
      ],
      "id": "0961fa6c",
      "execution_count": null,
      "outputs": []
    },
    {
      "cell_type": "markdown",
      "metadata": {},
      "source": [
        "## Plotnine\n"
      ],
      "id": "ef3dea3a"
    },
    {
      "cell_type": "code",
      "metadata": {},
      "source": [
        "return_corr_df \\\n",
        "    .dropna() \\\n",
        "    .groupby(['symbol', 'comp']) \\\n",
        "    .plot_timeseries(\n",
        "        date_column = \"date\",\n",
        "        value_column = \"returns_rolling_corr_win_90\",\n",
        "        facet_ncol = 6,\n",
        "        y_intercept = [-1,0,1],\n",
        "        y_intercept_color = tk.palette_timetk()['steel_blue'],\n",
        "        width = 1500,\n",
        "        height = 1000,\n",
        "        title = \"90-Day Rolling Correlation\",\n",
        "        engine = \"plotnine\"\n",
        "    )"
      ],
      "id": "dd3de545",
      "execution_count": null,
      "outputs": []
    },
    {
      "cell_type": "markdown",
      "metadata": {},
      "source": [
        ":::\n",
        "\n",
        "For comparison, we can examine the `corr_table_df` from the Descriptive Statistics Analysis:\n"
      ],
      "id": "f0a38890"
    },
    {
      "cell_type": "code",
      "metadata": {},
      "source": [
        "corr_table_df"
      ],
      "id": "e154a93d",
      "execution_count": null,
      "outputs": []
    },
    {
      "cell_type": "markdown",
      "metadata": {},
      "source": [
        "## About: Rolling Regression\n",
        "\n",
        "Rolling regression involves running regression analyses over rolling windows of data points to assess the relationship between a dependent and one or more independent variables. In the context of stock analysis, it can be used to:\n",
        "\n",
        "- **Beta Estimation:** It can be used to estimate the beta of a stock (a measure of market risk) against a market index over different time periods. A higher beta indicates higher market-related risk.\n",
        "  \n",
        "- **Market Timing:** It can be useful in identifying changing relationships between stocks and market indicators, helping traders to adjust their positions accordingly.\n",
        "\n",
        "- **Hedge Ratio Determination:** It helps in determining the appropriate hedge ratios for pairs trading or other hedging strategies.\n",
        "\n",
        "\n",
        "## Application: 90-Day Rolling Regression\n",
        "\n",
        "::: {.callout-warning collapse=\"false\"}\n",
        "## This Application Requires Scikit Learn\n",
        "\n",
        "We need to make a regression function that returns the Slope and Intercept. Scikit Learn has an easy to use modeling interface. You may need to `pip install scikit-learn` to use this applied tutorial.  \n",
        "\n",
        ":::\n",
        "\n",
        "### Step 1: Get Market Returns\n",
        "\n",
        "For our purposes, we assume the market is the average returns of the 6 technology stocks. \n",
        "\n",
        "- We calculate an equal-weight portfolio as the \"market returns\".\n",
        "- Then we merge the market returns into the returns long data.  \n"
      ],
      "id": "e6cdcb6f"
    },
    {
      "cell_type": "code",
      "metadata": {},
      "source": [
        "# Assume Market Returns = Equal Weight Portfolio\n",
        "market_returns_df = returns_wide_df \\\n",
        "    .set_index(\"date\") \\\n",
        "    .assign(returns_market = lambda df: df.sum(axis = 1) * (1 / df.shape[1])) \\\n",
        "    .reset_index() \\\n",
        "    [['date', 'returns_market']]\n",
        "\n",
        "# Merge with returns long\n",
        "returns_long_market_df = returns_long_df \\\n",
        "    .merge(market_returns_df, how='left', on='date')\n",
        "\n",
        "returns_long_market_df"
      ],
      "id": "9fc3b24b",
      "execution_count": null,
      "outputs": []
    },
    {
      "cell_type": "markdown",
      "metadata": {},
      "source": [
        "### Step 2: Run a Rolling Regression\n",
        "\n",
        "Next, run the following code to perform a rolling regression:\n",
        "\n",
        "- Use a custom regression function that will return the slope and intercept as a pandas series.\n",
        "- Run the rolling regression with `tk.augment_rolling()`.\n"
      ],
      "id": "4b44cf26"
    },
    {
      "cell_type": "code",
      "metadata": {},
      "source": [
        "from sklearn.linear_model import LinearRegression\n",
        "\n",
        "def regression(df):\n",
        "    \n",
        "    model = LinearRegression()\n",
        "    X = df[['returns_market']]  # Extract X values (independent variables)\n",
        "    y = df['returns']  # Extract y values (dependent variable)\n",
        "    model.fit(X, y)\n",
        "    ret = pd.Series([model.intercept_, model.coef_[0]], index=['Intercept', 'Slope'])\n",
        "    \n",
        "    return ret # Return intercept and slope as a Series\n",
        "\n",
        "return_regression_df = returns_long_market_df \\\n",
        "    .groupby('symbol') \\\n",
        "    .augment_rolling(\n",
        "        date_column = \"date\",\n",
        "        value_column = \"returns\",\n",
        "        use_independent_variables = True,\n",
        "        window = 90,\n",
        "        window_func = [('regression', regression)]\n",
        "        \n",
        "    ) \\\n",
        "    .dropna()\n",
        "\n",
        "return_regression_df"
      ],
      "id": "5017b429",
      "execution_count": null,
      "outputs": []
    },
    {
      "cell_type": "markdown",
      "metadata": {},
      "source": [
        "### Step 3: Extract the Slope Coefficient (Beta)\n",
        "\n",
        "This is more of a hack than anything to extract the beta (slope) of the rolling regression.\n"
      ],
      "id": "bf9d6d0f"
    },
    {
      "cell_type": "code",
      "metadata": {},
      "source": [
        "intercept_slope_df = pd.concat(return_regression_df['returns_rolling_regression_win_90'].to_list(), axis=1).T \n",
        "\n",
        "intercept_slope_df.index = return_regression_df.index\n",
        "\n",
        "return_beta_df = pd.concat([return_regression_df, intercept_slope_df], axis=1)\n",
        "\n",
        "return_beta_df"
      ],
      "id": "b97b2946",
      "execution_count": null,
      "outputs": []
    },
    {
      "cell_type": "markdown",
      "metadata": {},
      "source": [
        "### Step 4: Visualize the Rolling Beta\n",
        "\n",
        ":::{.panel-tabset groups=\"bbands-plotly-plotnine\"}\n",
        "\n",
        "## Plotly\n"
      ],
      "id": "716b0c32"
    },
    {
      "cell_type": "code",
      "metadata": {},
      "source": [
        "return_beta_df \\\n",
        "    .groupby('symbol') \\\n",
        "    .plot_timeseries(\n",
        "        date_column = \"date\",\n",
        "        value_column = \"Slope\",\n",
        "        facet_ncol = 2,\n",
        "        facet_scales = \"free_x\",\n",
        "        y_intercept = [0, 3],\n",
        "        y_intercept_color = tk.palette_timetk()['steel_blue'],\n",
        "        width = 800,\n",
        "        height = 600,\n",
        "        title = \"90-Day Rolling Regression\",\n",
        "        engine = \"plotly\",\n",
        "    )"
      ],
      "id": "b9c7e33a",
      "execution_count": null,
      "outputs": []
    },
    {
      "cell_type": "markdown",
      "metadata": {},
      "source": [
        "## Plotnine\n"
      ],
      "id": "a0dc2c9a"
    },
    {
      "cell_type": "code",
      "metadata": {},
      "source": [
        "return_beta_df \\\n",
        "    .groupby('symbol') \\\n",
        "    .plot_timeseries(\n",
        "        date_column = \"date\",\n",
        "        value_column = \"Slope\",\n",
        "        facet_ncol = 2,\n",
        "        facet_scales = \"free_x\",\n",
        "        y_intercept = [0, 3],\n",
        "        y_intercept_color = tk.palette_timetk()['steel_blue'],\n",
        "        width = 800,\n",
        "        height = 600,\n",
        "        title = \"90-Day Rolling Regression\",\n",
        "        engine = \"plotnine\",\n",
        "    )"
      ],
      "id": "9d268d00",
      "execution_count": null,
      "outputs": []
    },
    {
      "cell_type": "markdown",
      "metadata": {},
      "source": [
        ":::\n",
        "\n",
        "# Conclusions\n",
        "\n",
        "The `pytimetk` package offers a wide range of versatile time series functions, many of which can help improve Financial, Stock, Portfolio, and Investment Analysis in Python. \n"
      ],
      "id": "e5c6f604"
    }
  ],
  "metadata": {
    "kernelspec": {
      "name": "python3",
      "language": "python",
      "display_name": "Python 3 (ipykernel)"
    }
  },
  "nbformat": 4,
  "nbformat_minor": 5
}